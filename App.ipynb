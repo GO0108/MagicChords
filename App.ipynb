{
  "cells": [
    {
      "cell_type": "markdown",
      "metadata": {
        "id": "view-in-github",
        "colab_type": "text"
      },
      "source": [
        "<a href=\"https://colab.research.google.com/github/GO0108/MagicChords/blob/main/App.ipynb\" target=\"_parent\"><img src=\"https://colab.research.google.com/assets/colab-badge.svg\" alt=\"Open In Colab\"/></a>"
      ]
    },
    {
      "cell_type": "markdown",
      "source": [
        "Professor, o link de acesso está no segundo link"
      ],
      "metadata": {
        "id": "tXWqGMlg1SJi"
      }
    },
    {
      "cell_type": "code",
      "execution_count": 22,
      "metadata": {
        "colab": {
          "base_uri": "https://localhost:8080/"
        },
        "id": "RroK4PHJ14Os",
        "outputId": "c2486bbf-4a3f-4ac5-bc31-f8d635ac2280"
      },
      "outputs": [
        {
          "output_type": "stream",
          "name": "stdout",
          "text": [
            "/drive/ngrok-ssh\n",
            "--2022-04-18 16:33:23--  https://bin.equinox.io/c/4VmDzA7iaHb/ngrok-stable-linux-amd64.zip\n",
            "Resolving bin.equinox.io (bin.equinox.io)... 54.237.133.81, 18.205.222.128, 52.202.168.65, ...\n",
            "Connecting to bin.equinox.io (bin.equinox.io)|54.237.133.81|:443... connected.\n",
            "HTTP request sent, awaiting response... 200 OK\n",
            "Length: 13832437 (13M) [application/octet-stream]\n",
            "Saving to: ‘ngrok-stable-linux-amd64.zip’\n",
            "\n",
            "ngrok-stable-linux- 100%[===================>]  13.19M  55.1MB/s    in 0.2s    \n",
            "\n",
            "2022-04-18 16:33:23 (55.1 MB/s) - ‘ngrok-stable-linux-amd64.zip’ saved [13832437/13832437]\n",
            "\n",
            "Archive:  ngrok-stable-linux-amd64.zip\n",
            "Requirement already satisfied: flask-ngrok in /usr/local/lib/python3.7/dist-packages (0.0.25)\n",
            "Requirement already satisfied: Flask>=0.8 in /usr/local/lib/python3.7/dist-packages (from flask-ngrok) (1.1.4)\n",
            "Requirement already satisfied: requests in /usr/local/lib/python3.7/dist-packages (from flask-ngrok) (2.23.0)\n",
            "Requirement already satisfied: Jinja2<3.0,>=2.10.1 in /usr/local/lib/python3.7/dist-packages (from Flask>=0.8->flask-ngrok) (2.11.3)\n",
            "Requirement already satisfied: click<8.0,>=5.1 in /usr/local/lib/python3.7/dist-packages (from Flask>=0.8->flask-ngrok) (7.1.2)\n",
            "Requirement already satisfied: Werkzeug<2.0,>=0.15 in /usr/local/lib/python3.7/dist-packages (from Flask>=0.8->flask-ngrok) (1.0.1)\n",
            "Requirement already satisfied: itsdangerous<2.0,>=0.24 in /usr/local/lib/python3.7/dist-packages (from Flask>=0.8->flask-ngrok) (1.1.0)\n",
            "Requirement already satisfied: MarkupSafe>=0.23 in /usr/local/lib/python3.7/dist-packages (from Jinja2<3.0,>=2.10.1->Flask>=0.8->flask-ngrok) (2.0.1)\n",
            "Requirement already satisfied: idna<3,>=2.5 in /usr/local/lib/python3.7/dist-packages (from requests->flask-ngrok) (2.10)\n",
            "Requirement already satisfied: certifi>=2017.4.17 in /usr/local/lib/python3.7/dist-packages (from requests->flask-ngrok) (2021.10.8)\n",
            "Requirement already satisfied: chardet<4,>=3.0.2 in /usr/local/lib/python3.7/dist-packages (from requests->flask-ngrok) (3.0.4)\n",
            "Requirement already satisfied: urllib3!=1.25.0,!=1.25.1,<1.26,>=1.21.1 in /usr/local/lib/python3.7/dist-packages (from requests->flask-ngrok) (1.24.3)\n"
          ]
        }
      ],
      "source": [
        "#Baixando flash ngrok, usar flash no colab\n",
        "!mkdir -p /drive/ngrok-ssh\n",
        "%cd /drive/ngrok-ssh\n",
        "!wget https://bin.equinox.io/c/4VmDzA7iaHb/ngrok-stable-linux-amd64.zip -O ngrok-stable-linux-amd64.zip\n",
        "!unzip -u ngrok-stable-linux-amd64.zip\n",
        "!cp /drive/ngrok-ssh/ngrok /ngrok\n",
        "!chmod +x /ngrok\n",
        "\n",
        "!pip install flask-ngrok\n"
      ]
    },
    {
      "cell_type": "code",
      "source": [
        "# Token de autenticação para acesso a flash ngrok\n",
        "!/ngrok authtoken 27JjYKSINTlPVXJknyzB5m9AeFH_4SPhXnckexL5hoLSvxgBq"
      ],
      "metadata": {
        "colab": {
          "base_uri": "https://localhost:8080/"
        },
        "id": "DnxRAucza3Qq",
        "outputId": "f15b41b6-aa68-40e5-87cf-22601c915270"
      },
      "execution_count": 23,
      "outputs": [
        {
          "output_type": "stream",
          "name": "stdout",
          "text": [
            "Authtoken saved to configuration file: /root/.ngrok2/ngrok.yml\n"
          ]
        }
      ]
    },
    {
      "cell_type": "markdown",
      "source": [
        "https://drive.google.com/drive/folders/1iGn3qp6AGXD6Mhnzc_OUYUEe_HwFx4kQ?usp=sharing"
      ],
      "metadata": {
        "id": "M0Vm1y0F-Szu"
      }
    },
    {
      "cell_type": "code",
      "execution_count": 24,
      "metadata": {
        "colab": {
          "base_uri": "https://localhost:8080/"
        },
        "id": "LRExDSnj4N4w",
        "outputId": "ba3aacec-f1ee-4ad2-d587-73269538670a"
      },
      "outputs": [
        {
          "output_type": "stream",
          "name": "stdout",
          "text": [
            "Drive already mounted at /content/drive; to attempt to forcibly remount, call drive.mount(\"/content/drive\", force_remount=True).\n",
            "'Altera Nome.html'     'Converter cifra.html'  'Tela de Cadastro.html'\n",
            "'Altera Senha.html'    'Esqueceu Senha.html'    teste2.html\n",
            "'Comprar Moedas.html'   index.html\t        usuario.html\n",
            " Configurações.html    'Pagina Inicial.html'\n",
            " Conversao.html        'Sala Virtual.html'\n"
          ]
        }
      ],
      "source": [
        "# Acessar templates disponíveis no drive acima\n",
        "from google.colab import drive\n",
        "drive.mount('/content/drive')\n",
        "\n",
        "!ls \"/content/drive/MyDrive/templates\""
      ]
    },
    {
      "cell_type": "code",
      "source": [
        "cd /content/drive/MyDrive/templates"
      ],
      "metadata": {
        "colab": {
          "base_uri": "https://localhost:8080/"
        },
        "id": "OFDDe4wV_LhB",
        "outputId": "084f998a-1ca5-4dbd-f127-6f3087e6d09b"
      },
      "execution_count": 25,
      "outputs": [
        {
          "output_type": "stream",
          "name": "stdout",
          "text": [
            "/content/drive/MyDrive/templates\n"
          ]
        }
      ]
    },
    {
      "cell_type": "code",
      "execution_count": 57,
      "metadata": {
        "colab": {
          "base_uri": "https://localhost:8080/"
        },
        "id": "m9Qmf0Zv1-D6",
        "outputId": "de0043cc-4a01-4bb0-dd39-b645c5d1b182"
      },
      "outputs": [
        {
          "output_type": "stream",
          "name": "stdout",
          "text": [
            " * Serving Flask app \"__main__\" (lazy loading)\n",
            " * Environment: production\n",
            "\u001b[31m   WARNING: This is a development server. Do not use it in a production deployment.\u001b[0m\n",
            "\u001b[2m   Use a production WSGI server instead.\u001b[0m\n",
            " * Debug mode: off\n"
          ]
        },
        {
          "output_type": "stream",
          "name": "stderr",
          "text": [
            " * Running on http://127.0.0.1:5000/ (Press CTRL+C to quit)\n"
          ]
        },
        {
          "output_type": "stream",
          "name": "stdout",
          "text": [
            " * Running on http://12c0-34-73-80-57.ngrok.io\n",
            " * Traffic stats available on http://127.0.0.1:4040\n"
          ]
        },
        {
          "output_type": "stream",
          "name": "stderr",
          "text": [
            "127.0.0.1 - - [18/Apr/2022 17:55:43] \"\u001b[37mGET / HTTP/1.1\u001b[0m\" 200 -\n",
            "127.0.0.1 - - [18/Apr/2022 17:55:44] \"\u001b[33mGET /favicon.ico HTTP/1.1\u001b[0m\" 404 -\n",
            "127.0.0.1 - - [18/Apr/2022 17:55:45] \"\u001b[37mGET / HTTP/1.1\u001b[0m\" 200 -\n",
            "127.0.0.1 - - [18/Apr/2022 17:55:47] \"\u001b[37mPOST /autentica HTTP/1.1\u001b[0m\" 200 -\n",
            "127.0.0.1 - - [18/Apr/2022 17:55:49] \"\u001b[37mGET /configuracao HTTP/1.1\u001b[0m\" 200 -\n",
            "127.0.0.1 - - [18/Apr/2022 17:55:49] \"\u001b[31m\u001b[1mGET /autentica HTTP/1.1\u001b[0m\" 405 -\n",
            "127.0.0.1 - - [18/Apr/2022 17:55:50] \"\u001b[37mGET /configuracao HTTP/1.1\u001b[0m\" 200 -\n",
            "127.0.0.1 - - [18/Apr/2022 17:55:51] \"\u001b[37mGET /altera_s HTTP/1.1\u001b[0m\" 200 -\n",
            "127.0.0.1 - - [18/Apr/2022 17:55:53] \"\u001b[37mGET /altera_s HTTP/1.1\u001b[0m\" 200 -\n",
            "127.0.0.1 - - [18/Apr/2022 17:55:58] \"\u001b[37mGET /altera_s HTTP/1.1\u001b[0m\" 200 -\n",
            "127.0.0.1 - - [18/Apr/2022 17:56:01] \"\u001b[33mGET /Alterar%20foto HTTP/1.1\u001b[0m\" 404 -\n",
            "127.0.0.1 - - [18/Apr/2022 17:56:03] \"\u001b[33mGET /Alterar%20foto HTTP/1.1\u001b[0m\" 404 -\n",
            "127.0.0.1 - - [18/Apr/2022 17:56:04] \"\u001b[37mGET /altera_s HTTP/1.1\u001b[0m\" 200 -\n",
            "127.0.0.1 - - [18/Apr/2022 17:56:13] \"\u001b[37mGET /configuracao HTTP/1.1\u001b[0m\" 200 -\n",
            "127.0.0.1 - - [18/Apr/2022 17:56:15] \"\u001b[37mGET /altera_s HTTP/1.1\u001b[0m\" 200 -\n",
            "127.0.0.1 - - [18/Apr/2022 17:56:19] \"\u001b[37mPOST /configuracao/altera_senha HTTP/1.1\u001b[0m\" 200 -\n",
            "127.0.0.1 - - [18/Apr/2022 17:56:40] \"\u001b[37mGET /configuracao HTTP/1.1\u001b[0m\" 200 -\n",
            "127.0.0.1 - - [18/Apr/2022 17:56:41] \"\u001b[37mGET /altera_s HTTP/1.1\u001b[0m\" 200 -\n",
            "127.0.0.1 - - [18/Apr/2022 17:56:43] \"\u001b[37mGET /compra HTTP/1.1\u001b[0m\" 200 -\n",
            "127.0.0.1 - - [18/Apr/2022 17:56:45] \"\u001b[37mGET /compra HTTP/1.1\u001b[0m\" 200 -\n",
            "127.0.0.1 - - [18/Apr/2022 17:56:46] \"\u001b[37mGET /conversao HTTP/1.1\u001b[0m\" 200 -\n",
            "127.0.0.1 - - [18/Apr/2022 17:56:47] \"\u001b[37mGET /configuracao HTTP/1.1\u001b[0m\" 200 -\n",
            "127.0.0.1 - - [18/Apr/2022 17:56:48] \"\u001b[37mGET /conversao HTTP/1.1\u001b[0m\" 200 -\n",
            "127.0.0.1 - - [18/Apr/2022 17:56:49] \"\u001b[37mGET /altera_s HTTP/1.1\u001b[0m\" 200 -\n",
            "127.0.0.1 - - [18/Apr/2022 17:56:53] \"\u001b[37mGET /sala_virtual HTTP/1.1\u001b[0m\" 200 -\n",
            "127.0.0.1 - - [18/Apr/2022 17:56:54] \"\u001b[37mGET /configuracao HTTP/1.1\u001b[0m\" 200 -\n",
            "127.0.0.1 - - [18/Apr/2022 17:56:56] \"\u001b[37mGET /altera_s HTTP/1.1\u001b[0m\" 200 -\n"
          ]
        }
      ],
      "source": [
        "from crypt import methods\n",
        "from math import degrees\n",
        "from flask import Flask, render_template, request\n",
        "from flask_ngrok import run_with_ngrok\n",
        "\n",
        "app = Flask(__name__, template_folder='/content/drive/MyDrive/templates')\n",
        "run_with_ngrok(app)  \n",
        "\n",
        "\n",
        "@app.route(\"/\")\n",
        "@app.route(\"/index\")\n",
        "def home():\n",
        "    return render_template('index.html')\n",
        "\n",
        "@app.route(\"/cadastra\", methods=['POST'])\n",
        "def cadastra():\n",
        "    nome = request.form['nome']\n",
        "    data = request.form['data']\n",
        "    email = request.form['email']\n",
        "    pswrd = request.form['senha']\n",
        "    confirm = request.form['senha2']\n",
        "    #CREATE o usuário, passando os parâmetros lidos acima!\n",
        "    return render_template(\"usuario.html\", nome=nome, data=data,  email=email, senha=pswrd, confirm=confirm)\n",
        "\n",
        "@app.route(\"/autentica\",methods=['POST'])\n",
        "def autentica():\n",
        "    email = request.form['email']\n",
        "    pswrd = request.form['senha']\n",
        "    #Consultar se usuário existe, passando usr e pswrd!\n",
        "    return render_template(\"Pagina Inicial.html\", email=email, senha=pswrd)\n",
        "\n",
        "@app.route(\"/configuracao/altera_senha\", methods=['POST'])\n",
        "def altera_senha():\n",
        "    pswrd_a = request.form['senha']\n",
        "    pswrd_n = request.form['nova_senha']\n",
        "    confirm = request.form['nova_senha2']\n",
        "    #confirmar se a senha está correta e se as senhas novas batem\n",
        "    return render_template(\"Configurações.html\", senha=pswrd_a, nova_senha=pswrd_n, confirm=confirm)\n",
        "\n",
        "@app.route(\"/configuracao/altera_nome\", methods=['POST'])\n",
        "def altera_nome():\n",
        "    novo_n = request.form['novo_nome']\n",
        "    return render_template(\"Configurações.html\", nome = novo_n)\n",
        "\n",
        "@app.route(\"/nova\", methods=['POST'])\n",
        "def nova():\n",
        "    email = request.form['email']\n",
        "    pswrd_n = request.form['nova_senha']\n",
        "    confirm = request.form['nova_senha2']\n",
        "    #confirmar se a senha está correta e se as senhas novas batem\n",
        "    return render_template(\"atualizado.html\",email=email, senha=pswrd_n, confirm =confirm )\n",
        "    \n",
        "\n",
        "@app.route(\"/rec_senha\")\n",
        "def rec_senha():\n",
        "    return render_template(\"Esqueceu Senha.html\")\n",
        "\n",
        "@app.route(\"/cadastro\")\n",
        "def cadastro():\n",
        "    return render_template(\"Tela de Cadastro.html\")\n",
        "\n",
        "@app.route(\"/sala_virtual\")\n",
        "def sala_virtual():\n",
        "    return render_template(\"Sala Virtual.html\")\n",
        "\n",
        "@app.route(\"/conversao\")\n",
        "def convercao():\n",
        "    return render_template(\"Conversao.html\")\n",
        "  \n",
        "@app.route(\"/compra\")\n",
        "def compra():\n",
        "    return render_template(\"Comprar Moedas.html\")\n",
        "\n",
        "@app.route(\"/altera_n\")\n",
        "def altera_n():\n",
        "    return render_template(\"Altera Nome.html\")\n",
        "\n",
        "@app.route(\"/altera_s\")\n",
        "def altera_s():\n",
        "    return render_template(\"Altera Senha.html\")\n",
        "\n",
        "@app.route(\"/inicio\")\n",
        "def inicial():\n",
        "    return render_template(\"Pagina Inicial.html\")\n",
        "\n",
        "@app.route(\"/configuracao\")\n",
        "def configuracao():\n",
        "    return render_template(\"Configurações.html\")\n",
        "\n",
        "@app.route(\"/conversao_cifra\")\n",
        "def conversao_cifra():\n",
        "    return render_template(\"Converter cifra.html\")\n",
        "\n",
        "if __name__ == \"__main__\":\n",
        "    app.run()\n"
      ]
    }
  ],
  "metadata": {
    "colab": {
      "name": "App",
      "provenance": [],
      "include_colab_link": true
    },
    "kernelspec": {
      "display_name": "Python 3",
      "name": "python3"
    },
    "language_info": {
      "name": "python"
    }
  },
  "nbformat": 4,
  "nbformat_minor": 0
}