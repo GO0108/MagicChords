{
  "cells": [
    {
      "cell_type": "markdown",
      "metadata": {
        "id": "view-in-github",
        "colab_type": "text"
      },
      "source": [
        "<a href=\"https://colab.research.google.com/github/GO0108/MagicChords/blob/main/App.ipynb\" target=\"_parent\"><img src=\"https://colab.research.google.com/assets/colab-badge.svg\" alt=\"Open In Colab\"/></a>"
      ]
    },
    {
      "cell_type": "markdown",
      "source": [
        "Professor, o link de acesso está no segundo link"
      ],
      "metadata": {
        "id": "tXWqGMlg1SJi"
      }
    },
    {
      "cell_type": "code",
      "execution_count": 3,
      "metadata": {
        "colab": {
          "base_uri": "https://localhost:8080/"
        },
        "id": "RroK4PHJ14Os",
        "outputId": "f744e668-4a44-48f6-f719-a2a5b077d890"
      },
      "outputs": [
        {
          "output_type": "stream",
          "name": "stdout",
          "text": [
            "/drive/ngrok-ssh\n",
            "--2022-04-18 04:12:16--  https://bin.equinox.io/c/4VmDzA7iaHb/ngrok-stable-linux-amd64.zip\n",
            "Resolving bin.equinox.io (bin.equinox.io)... 54.237.133.81, 54.161.241.46, 18.205.222.128, ...\n",
            "Connecting to bin.equinox.io (bin.equinox.io)|54.237.133.81|:443... connected.\n",
            "HTTP request sent, awaiting response... 200 OK\n",
            "Length: 13832437 (13M) [application/octet-stream]\n",
            "Saving to: ‘ngrok-stable-linux-amd64.zip’\n",
            "\n",
            "ngrok-stable-linux- 100%[===================>]  13.19M  57.8MB/s    in 0.2s    \n",
            "\n",
            "2022-04-18 04:12:17 (57.8 MB/s) - ‘ngrok-stable-linux-amd64.zip’ saved [13832437/13832437]\n",
            "\n",
            "Archive:  ngrok-stable-linux-amd64.zip\n",
            "  inflating: ngrok                   \n",
            "Collecting flask-ngrok\n",
            "  Downloading flask_ngrok-0.0.25-py3-none-any.whl (3.1 kB)\n",
            "Requirement already satisfied: requests in /usr/local/lib/python3.7/dist-packages (from flask-ngrok) (2.23.0)\n",
            "Requirement already satisfied: Flask>=0.8 in /usr/local/lib/python3.7/dist-packages (from flask-ngrok) (1.1.4)\n",
            "Requirement already satisfied: Jinja2<3.0,>=2.10.1 in /usr/local/lib/python3.7/dist-packages (from Flask>=0.8->flask-ngrok) (2.11.3)\n",
            "Requirement already satisfied: Werkzeug<2.0,>=0.15 in /usr/local/lib/python3.7/dist-packages (from Flask>=0.8->flask-ngrok) (1.0.1)\n",
            "Requirement already satisfied: itsdangerous<2.0,>=0.24 in /usr/local/lib/python3.7/dist-packages (from Flask>=0.8->flask-ngrok) (1.1.0)\n",
            "Requirement already satisfied: click<8.0,>=5.1 in /usr/local/lib/python3.7/dist-packages (from Flask>=0.8->flask-ngrok) (7.1.2)\n",
            "Requirement already satisfied: MarkupSafe>=0.23 in /usr/local/lib/python3.7/dist-packages (from Jinja2<3.0,>=2.10.1->Flask>=0.8->flask-ngrok) (2.0.1)\n",
            "Requirement already satisfied: urllib3!=1.25.0,!=1.25.1,<1.26,>=1.21.1 in /usr/local/lib/python3.7/dist-packages (from requests->flask-ngrok) (1.24.3)\n",
            "Requirement already satisfied: idna<3,>=2.5 in /usr/local/lib/python3.7/dist-packages (from requests->flask-ngrok) (2.10)\n",
            "Requirement already satisfied: certifi>=2017.4.17 in /usr/local/lib/python3.7/dist-packages (from requests->flask-ngrok) (2021.10.8)\n",
            "Requirement already satisfied: chardet<4,>=3.0.2 in /usr/local/lib/python3.7/dist-packages (from requests->flask-ngrok) (3.0.4)\n",
            "Installing collected packages: flask-ngrok\n",
            "Successfully installed flask-ngrok-0.0.25\n"
          ]
        }
      ],
      "source": [
        "#Baixando flash ngrok, usar flash no colab\n",
        "!mkdir -p /drive/ngrok-ssh\n",
        "%cd /drive/ngrok-ssh\n",
        "!wget https://bin.equinox.io/c/4VmDzA7iaHb/ngrok-stable-linux-amd64.zip -O ngrok-stable-linux-amd64.zip\n",
        "!unzip -u ngrok-stable-linux-amd64.zip\n",
        "!cp /drive/ngrok-ssh/ngrok /ngrok\n",
        "!chmod +x /ngrok\n",
        "\n",
        "!pip install flask-ngrok\n"
      ]
    },
    {
      "cell_type": "code",
      "source": [
        "# Token de autenticação para acesso a flash ngrok\n",
        "!/ngrok authtoken 27JjYKSINTlPVXJknyzB5m9AeFH_4SPhXnckexL5hoLSvxgBq"
      ],
      "metadata": {
        "colab": {
          "base_uri": "https://localhost:8080/"
        },
        "id": "DnxRAucza3Qq",
        "outputId": "b34d1ece-54ad-4f60-fcf9-1ac4e7d4ab5f"
      },
      "execution_count": 4,
      "outputs": [
        {
          "output_type": "stream",
          "name": "stdout",
          "text": [
            "Authtoken saved to configuration file: /root/.ngrok2/ngrok.yml\n"
          ]
        }
      ]
    },
    {
      "cell_type": "markdown",
      "source": [
        "https://drive.google.com/drive/folders/1iGn3qp6AGXD6Mhnzc_OUYUEe_HwFx4kQ?usp=sharing"
      ],
      "metadata": {
        "id": "M0Vm1y0F-Szu"
      }
    },
    {
      "cell_type": "code",
      "execution_count": 5,
      "metadata": {
        "colab": {
          "base_uri": "https://localhost:8080/"
        },
        "id": "LRExDSnj4N4w",
        "outputId": "98ce0b95-a3f2-48b6-bc56-db5d47182a04"
      },
      "outputs": [
        {
          "output_type": "stream",
          "name": "stdout",
          "text": [
            "Mounted at /content/drive\n",
            "'Altera Nome.html'      Conversao.html\t       'Pagina Inicial.html'\n",
            "'Altera Senha.html'    'Converter cifra.html'  'Sala Virtual.html'\n",
            "'Comprar Moedas.html'  'Esqueceu Senha.html'   'Tela de Cadastro.html'\n",
            " Configuracoes.html     index.html\n"
          ]
        }
      ],
      "source": [
        "# Acessar templates disponíveis no drive acima\n",
        "from google.colab import drive\n",
        "drive.mount('/content/drive')\n",
        "\n",
        "!ls \"/content/drive/MyDrive/templates\""
      ]
    },
    {
      "cell_type": "code",
      "source": [
        "cd /content/drive/MyDrive/templates"
      ],
      "metadata": {
        "colab": {
          "base_uri": "https://localhost:8080/"
        },
        "id": "OFDDe4wV_LhB",
        "outputId": "b9383c18-d27f-4e1a-f05c-c92949d4fe95"
      },
      "execution_count": 6,
      "outputs": [
        {
          "output_type": "stream",
          "name": "stdout",
          "text": [
            "/content/drive/MyDrive/templates\n"
          ]
        }
      ]
    },
    {
      "cell_type": "code",
      "execution_count": null,
      "metadata": {
        "colab": {
          "base_uri": "https://localhost:8080/"
        },
        "id": "m9Qmf0Zv1-D6",
        "outputId": "5484d46e-a707-4a9d-f1a8-d6c1e1fbf083"
      },
      "outputs": [
        {
          "output_type": "stream",
          "name": "stdout",
          "text": [
            " * Serving Flask app \"__main__\" (lazy loading)\n",
            " * Environment: production\n",
            "\u001b[31m   WARNING: This is a development server. Do not use it in a production deployment.\u001b[0m\n",
            "\u001b[2m   Use a production WSGI server instead.\u001b[0m\n",
            " * Debug mode: off\n"
          ]
        },
        {
          "output_type": "stream",
          "name": "stderr",
          "text": [
            " * Running on http://127.0.0.1:5000/ (Press CTRL+C to quit)\n"
          ]
        },
        {
          "output_type": "stream",
          "name": "stdout",
          "text": [
            " * Running on http://7d47-34-73-131-91.ngrok.io\n",
            " * Traffic stats available on http://127.0.0.1:4040\n"
          ]
        },
        {
          "output_type": "stream",
          "name": "stderr",
          "text": [
            "127.0.0.1 - - [18/Apr/2022 06:45:14] \"\u001b[37mGET / HTTP/1.1\u001b[0m\" 200 -\n",
            "127.0.0.1 - - [18/Apr/2022 06:45:14] \"\u001b[33mGET /favicon.ico HTTP/1.1\u001b[0m\" 404 -\n",
            "127.0.0.1 - - [18/Apr/2022 06:45:16] \"\u001b[37mGET / HTTP/1.1\u001b[0m\" 200 -\n",
            "127.0.0.1 - - [18/Apr/2022 06:45:17] \"\u001b[37mPOST /autentica HTTP/1.1\u001b[0m\" 200 -\n",
            "127.0.0.1 - - [18/Apr/2022 06:45:18] \"\u001b[31m\u001b[1mGET /autentica HTTP/1.1\u001b[0m\" 405 -\n",
            "127.0.0.1 - - [18/Apr/2022 06:45:19] \"\u001b[37mGET /configuracao HTTP/1.1\u001b[0m\" 200 -\n",
            "127.0.0.1 - - [18/Apr/2022 06:45:20] \"\u001b[37mGET /configuracao HTTP/1.1\u001b[0m\" 200 -\n"
          ]
        }
      ],
      "source": [
        "from crypt import methods\n",
        "from math import degrees\n",
        "from flask import Flask, render_template, request\n",
        "from flask_ngrok import run_with_ngrok\n",
        "\n",
        "app = Flask(__name__, template_folder='/content/drive/MyDrive/templates')\n",
        "run_with_ngrok(app)  \n",
        "\n",
        "\n",
        "@app.route(\"/\")\n",
        "@app.route(\"/index\")\n",
        "def home():\n",
        "    return render_template('index.html')\n",
        "\n",
        "@app.route(\"/cadastra\", methods=['POST'])\n",
        "def cadastra():\n",
        "    nome = request.form['nome']\n",
        "    data = request.form['data']\n",
        "    email = request.form['email']\n",
        "    pswrd = request.form['senha']\n",
        "    confirm = request.form['senha2']\n",
        "    #CREATE o usuário, passando os parâmetros lidos acima!\n",
        "    return render_template(\"usuario.html\", nome=nome, data=data,  email=email, senha=pswrd, confirm=confirm)\n",
        "\n",
        "@app.route(\"/autentica\",methods=['POST'])\n",
        "def autentica():\n",
        "    email = request.form['email']\n",
        "    pswrd = request.form['senha']\n",
        "    #Consultar se usuário existe, passando usr e pswrd!\n",
        "    return render_template(\"Pagina Inicial.html\", email=email, senha=pswrd)\n",
        "    \n",
        "\n",
        "@app.route(\"/rec_senha\")\n",
        "def rec_senha():\n",
        "    return render_template(\"Esqueceu Senha.html\")\n",
        "\n",
        "@app.route(\"/cadastro\")\n",
        "def cadastro():\n",
        "    return render_template(\"Tela de Cadastro.html\")\n",
        "\n",
        "@app.route(\"/sala_virtual\")\n",
        "def sala_virtual():\n",
        "    return render_template(\"Sala Virtual.html\")\n",
        "\n",
        "@app.route(\"/conversao\")\n",
        "def convercao():\n",
        "    return render_template(\"Conversao.html\")\n",
        "  \n",
        "@app.route(\"/compra\")\n",
        "def compra():\n",
        "    return render_template(\"Comprar Moedas.html\")\n",
        "\n",
        "@app.route(\"/inicio\")\n",
        "def inicial():\n",
        "    return render_template(\"Pagina Inicial.html\")\n",
        "\n",
        "@app.route(\"/configuracao\")\n",
        "def configuracao():\n",
        "    return render_template(\"Configurações.html\")\n",
        "\n",
        "@app.route(\"/conversao_cifra\")\n",
        "def conversao_cifra():\n",
        "    return render_template(\"Converter cifra.html\")\n",
        "\n",
        "'''\n",
        "@app.route(\"/login\")\n",
        "def login():\n",
        "    return render_template(\"login.html\")\n",
        "\n",
        "@app.route(\"/autentica\",methods=['POST'])\n",
        "def autentica():\n",
        "    usr = request.form['usuario']\n",
        "    pswrd = request.form['senha']\n",
        "    #Consultar se usuário existe, passando usr e pswrd!\n",
        "    return render_template(\"usuario.html\", usuario=usr, senha=pswrd)\n",
        "\n",
        "@app.route(\"/signin\", methods=['GET'])\n",
        "def signin():\n",
        "    return render_template(\"formCliente.html\")\n",
        "\n",
        "@app.route(\"/cadastra\", methods=['POST'])\n",
        "def cadastra():\n",
        "    nome = request.form['nome']\n",
        "    email = request.form['email']\n",
        "    usr = request.form['usuario']\n",
        "    pswrd = request.form['senha']\n",
        "    #CREATE o usuário, passando os parâmetros lidos acima!\n",
        "    return render_template(\"usuario.html\", nome=nome,  email=email, usuario=usr, senha=pswrd)\n",
        "'''\n",
        "if __name__ == \"__main__\":\n",
        "    app.run()\n"
      ]
    }
  ],
  "metadata": {
    "colab": {
      "name": "App",
      "provenance": [],
      "include_colab_link": true
    },
    "kernelspec": {
      "display_name": "Python 3",
      "name": "python3"
    },
    "language_info": {
      "name": "python"
    }
  },
  "nbformat": 4,
  "nbformat_minor": 0
}