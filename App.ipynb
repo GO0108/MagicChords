{
  "cells": [
    {
      "cell_type": "markdown",
      "metadata": {
        "id": "view-in-github",
        "colab_type": "text"
      },
      "source": [
        "<a href=\"https://colab.research.google.com/github/GO0108/MagicChords/blob/main/App.ipynb\" target=\"_parent\"><img src=\"https://colab.research.google.com/assets/colab-badge.svg\" alt=\"Open In Colab\"/></a>"
      ]
    },
    {
      "cell_type": "markdown",
      "source": [
        "Professor, o link de acesso está no segundo link"
      ],
      "metadata": {
        "id": "tXWqGMlg1SJi"
      }
    },
    {
      "cell_type": "code",
      "execution_count": 32,
      "metadata": {
        "colab": {
          "base_uri": "https://localhost:8080/"
        },
        "id": "RroK4PHJ14Os",
        "outputId": "e45650c7-93ed-4654-f6ca-cd85e065d1f0"
      },
      "outputs": [
        {
          "output_type": "stream",
          "name": "stdout",
          "text": [
            "/drive/ngrok-ssh\n",
            "--2022-04-17 22:27:12--  https://bin.equinox.io/c/4VmDzA7iaHb/ngrok-stable-linux-amd64.zip\n",
            "Resolving bin.equinox.io (bin.equinox.io)... 54.237.133.81, 18.205.222.128, 54.161.241.46, ...\n",
            "Connecting to bin.equinox.io (bin.equinox.io)|54.237.133.81|:443... connected.\n",
            "HTTP request sent, awaiting response... 200 OK\n",
            "Length: 13832437 (13M) [application/octet-stream]\n",
            "Saving to: ‘ngrok-stable-linux-amd64.zip’\n",
            "\n",
            "ngrok-stable-linux- 100%[===================>]  13.19M  8.37MB/s    in 1.6s    \n",
            "\n",
            "2022-04-17 22:27:14 (8.37 MB/s) - ‘ngrok-stable-linux-amd64.zip’ saved [13832437/13832437]\n",
            "\n",
            "Archive:  ngrok-stable-linux-amd64.zip\n",
            "Requirement already satisfied: flask-ngrok in /usr/local/lib/python3.7/dist-packages (0.0.25)\n",
            "Requirement already satisfied: requests in /usr/local/lib/python3.7/dist-packages (from flask-ngrok) (2.23.0)\n",
            "Requirement already satisfied: Flask>=0.8 in /usr/local/lib/python3.7/dist-packages (from flask-ngrok) (1.1.4)\n",
            "Requirement already satisfied: Werkzeug<2.0,>=0.15 in /usr/local/lib/python3.7/dist-packages (from Flask>=0.8->flask-ngrok) (1.0.1)\n",
            "Requirement already satisfied: itsdangerous<2.0,>=0.24 in /usr/local/lib/python3.7/dist-packages (from Flask>=0.8->flask-ngrok) (1.1.0)\n",
            "Requirement already satisfied: Jinja2<3.0,>=2.10.1 in /usr/local/lib/python3.7/dist-packages (from Flask>=0.8->flask-ngrok) (2.11.3)\n",
            "Requirement already satisfied: click<8.0,>=5.1 in /usr/local/lib/python3.7/dist-packages (from Flask>=0.8->flask-ngrok) (7.1.2)\n",
            "Requirement already satisfied: MarkupSafe>=0.23 in /usr/local/lib/python3.7/dist-packages (from Jinja2<3.0,>=2.10.1->Flask>=0.8->flask-ngrok) (2.0.1)\n",
            "Requirement already satisfied: urllib3!=1.25.0,!=1.25.1,<1.26,>=1.21.1 in /usr/local/lib/python3.7/dist-packages (from requests->flask-ngrok) (1.24.3)\n",
            "Requirement already satisfied: certifi>=2017.4.17 in /usr/local/lib/python3.7/dist-packages (from requests->flask-ngrok) (2021.10.8)\n",
            "Requirement already satisfied: idna<3,>=2.5 in /usr/local/lib/python3.7/dist-packages (from requests->flask-ngrok) (2.10)\n",
            "Requirement already satisfied: chardet<4,>=3.0.2 in /usr/local/lib/python3.7/dist-packages (from requests->flask-ngrok) (3.0.4)\n"
          ]
        }
      ],
      "source": [
        "#Baixando flash ngrok, usar flash no colab\n",
        "!mkdir -p /drive/ngrok-ssh\n",
        "%cd /drive/ngrok-ssh\n",
        "!wget https://bin.equinox.io/c/4VmDzA7iaHb/ngrok-stable-linux-amd64.zip -O ngrok-stable-linux-amd64.zip\n",
        "!unzip -u ngrok-stable-linux-amd64.zip\n",
        "!cp /drive/ngrok-ssh/ngrok /ngrok\n",
        "!chmod +x /ngrok\n",
        "\n",
        "!pip install flask-ngrok\n"
      ]
    },
    {
      "cell_type": "code",
      "source": [
        "# Token de autenticação para acesso a flash ngrok\n",
        "!/ngrok authtoken 27JjYKSINTlPVXJknyzB5m9AeFH_4SPhXnckexL5hoLSvxgBq"
      ],
      "metadata": {
        "colab": {
          "base_uri": "https://localhost:8080/"
        },
        "id": "DnxRAucza3Qq",
        "outputId": "c317c4fc-f213-41d3-9939-9c850315d0e5"
      },
      "execution_count": 33,
      "outputs": [
        {
          "output_type": "stream",
          "name": "stdout",
          "text": [
            "Authtoken saved to configuration file: /root/.ngrok2/ngrok.yml\n"
          ]
        }
      ]
    },
    {
      "cell_type": "markdown",
      "source": [
        "https://drive.google.com/drive/folders/1iGn3qp6AGXD6Mhnzc_OUYUEe_HwFx4kQ?usp=sharing"
      ],
      "metadata": {
        "id": "M0Vm1y0F-Szu"
      }
    },
    {
      "cell_type": "code",
      "execution_count": 34,
      "metadata": {
        "colab": {
          "base_uri": "https://localhost:8080/"
        },
        "id": "LRExDSnj4N4w",
        "outputId": "c8d5464e-de19-4bc4-c1dd-1f75ca7476f8"
      },
      "outputs": [
        {
          "output_type": "stream",
          "name": "stdout",
          "text": [
            "Drive already mounted at /content/drive; to attempt to forcibly remount, call drive.mount(\"/content/drive\", force_remount=True).\n",
            "'Altera Nome.html'   'Converter cifra.html'  'Sala Virtual.html'\n",
            "'Altera Senha.html'  'Esqueceu Senha.html'   'Tela de Cadastro.html'\n",
            " Configuracoes.html   index.html\n",
            " Conversao.html      'Pagina Inicial.html'\n"
          ]
        }
      ],
      "source": [
        "# Acessar templates disponíveis no drive acima\n",
        "from google.colab import drive\n",
        "drive.mount('/content/drive')\n",
        "\n",
        "!ls \"/content/drive/MyDrive/templates\""
      ]
    },
    {
      "cell_type": "code",
      "source": [
        "cd /content/drive/MyDrive/templates"
      ],
      "metadata": {
        "colab": {
          "base_uri": "https://localhost:8080/"
        },
        "id": "OFDDe4wV_LhB",
        "outputId": "6c0d81b4-c66a-4861-e2a8-90c8b94bc8b7"
      },
      "execution_count": null,
      "outputs": [
        {
          "output_type": "stream",
          "name": "stdout",
          "text": [
            "/content/drive/MyDrive/MC_POO/templates\n"
          ]
        }
      ]
    },
    {
      "cell_type": "code",
      "execution_count": 42,
      "metadata": {
        "colab": {
          "base_uri": "https://localhost:8080/"
        },
        "id": "m9Qmf0Zv1-D6",
        "outputId": "020c2a5c-b47d-457f-e06c-ee767a6cad65"
      },
      "outputs": [
        {
          "metadata": {
            "tags": null
          },
          "name": "stdout",
          "output_type": "stream",
          "text": [
            " * Serving Flask app \"__main__\" (lazy loading)\n",
            " * Environment: production\n",
            "\u001b[31m   WARNING: This is a development server. Do not use it in a production deployment.\u001b[0m\n",
            "\u001b[2m   Use a production WSGI server instead.\u001b[0m\n",
            " * Debug mode: off\n"
          ]
        },
        {
          "metadata": {
            "tags": null
          },
          "name": "stderr",
          "output_type": "stream",
          "text": [
            " * Running on http://127.0.0.1:5000/ (Press CTRL+C to quit)\n"
          ]
        },
        {
          "metadata": {
            "tags": null
          },
          "name": "stdout",
          "output_type": "stream",
          "text": [
            " * Running on http://7771-35-231-242-180.ngrok.io\n",
            " * Traffic stats available on http://127.0.0.1:4040\n"
          ]
        },
        {
          "output_type": "stream",
          "name": "stderr",
          "text": [
            "127.0.0.1 - - [17/Apr/2022 23:15:09] \"\u001b[37mGET / HTTP/1.1\u001b[0m\" 200 -\n",
            "127.0.0.1 - - [17/Apr/2022 23:15:11] \"\u001b[37mGET / HTTP/1.1\u001b[0m\" 200 -\n",
            "127.0.0.1 - - [17/Apr/2022 23:15:11] \"\u001b[37mGET / HTTP/1.1\u001b[0m\" 200 -\n",
            "127.0.0.1 - - [17/Apr/2022 23:15:14] \"\u001b[33mGET /favicon.ico HTTP/1.1\u001b[0m\" 404 -\n",
            "127.0.0.1 - - [17/Apr/2022 23:15:21] \"\u001b[37mGET /inicio HTTP/1.1\u001b[0m\" 200 -\n",
            "127.0.0.1 - - [17/Apr/2022 23:15:23] \"\u001b[37mGET /inicio HTTP/1.1\u001b[0m\" 200 -\n",
            "127.0.0.1 - - [17/Apr/2022 23:15:23] \"\u001b[33mGET /favicon.ico HTTP/1.1\u001b[0m\" 404 -\n",
            "127.0.0.1 - - [17/Apr/2022 23:15:27] \"\u001b[37mGET /configuracao HTTP/1.1\u001b[0m\" 200 -\n",
            "127.0.0.1 - - [17/Apr/2022 23:15:29] \"\u001b[37mGET /configuracao HTTP/1.1\u001b[0m\" 200 -\n",
            "127.0.0.1 - - [17/Apr/2022 23:15:39] \"\u001b[37mGET /inicio HTTP/1.1\u001b[0m\" 200 -\n",
            "127.0.0.1 - - [17/Apr/2022 23:15:41] \"\u001b[37mGET /sala_virtual HTTP/1.1\u001b[0m\" 200 -\n",
            "127.0.0.1 - - [17/Apr/2022 23:15:43] \"\u001b[37mGET /sala_virtual HTTP/1.1\u001b[0m\" 200 -\n",
            "127.0.0.1 - - [17/Apr/2022 23:15:47] \"\u001b[37mGET /inicio HTTP/1.1\u001b[0m\" 200 -\n",
            "127.0.0.1 - - [17/Apr/2022 23:15:50] \"\u001b[37mGET /conversao HTTP/1.1\u001b[0m\" 200 -\n",
            "127.0.0.1 - - [17/Apr/2022 23:15:53] \"\u001b[37mGET /conversao HTTP/1.1\u001b[0m\" 200 -\n",
            "127.0.0.1 - - [17/Apr/2022 23:15:56] \"\u001b[37mGET /inicio HTTP/1.1\u001b[0m\" 200 -\n",
            "127.0.0.1 - - [17/Apr/2022 23:15:58] \"\u001b[37mGET /compra HTTP/1.1\u001b[0m\" 200 -\n",
            "127.0.0.1 - - [17/Apr/2022 23:16:00] \"\u001b[37mGET /compra HTTP/1.1\u001b[0m\" 200 -\n",
            "127.0.0.1 - - [17/Apr/2022 23:16:13] \"\u001b[37mGET /inicio HTTP/1.1\u001b[0m\" 200 -\n",
            "127.0.0.1 - - [17/Apr/2022 23:16:46] \"\u001b[33mGET /cadatro HTTP/1.1\u001b[0m\" 404 -\n",
            "127.0.0.1 - - [17/Apr/2022 23:16:48] \"\u001b[33mGET /cadatro HTTP/1.1\u001b[0m\" 404 -\n",
            "127.0.0.1 - - [17/Apr/2022 23:16:50] \"\u001b[37mGET /cadastro HTTP/1.1\u001b[0m\" 200 -\n",
            "127.0.0.1 - - [17/Apr/2022 23:16:53] \"\u001b[37mGET /cadastro HTTP/1.1\u001b[0m\" 200 -\n",
            "127.0.0.1 - - [17/Apr/2022 23:17:46] \"\u001b[37mGET / HTTP/1.1\u001b[0m\" 200 -\n",
            "[2022-04-17 23:17:50,834] ERROR in app: Exception on /autentica [POST]\n",
            "Traceback (most recent call last):\n",
            "  File \"/usr/local/lib/python3.7/dist-packages/flask/app.py\", line 2447, in wsgi_app\n",
            "    response = self.full_dispatch_request()\n",
            "  File \"/usr/local/lib/python3.7/dist-packages/flask/app.py\", line 1952, in full_dispatch_request\n",
            "    rv = self.handle_user_exception(e)\n",
            "  File \"/usr/local/lib/python3.7/dist-packages/flask/app.py\", line 1821, in handle_user_exception\n",
            "    reraise(exc_type, exc_value, tb)\n",
            "  File \"/usr/local/lib/python3.7/dist-packages/flask/_compat.py\", line 39, in reraise\n",
            "    raise value\n",
            "  File \"/usr/local/lib/python3.7/dist-packages/flask/app.py\", line 1950, in full_dispatch_request\n",
            "    rv = self.dispatch_request()\n",
            "  File \"/usr/local/lib/python3.7/dist-packages/flask/app.py\", line 1936, in dispatch_request\n",
            "    return self.view_functions[rule.endpoint](**req.view_args)\n",
            "  File \"<ipython-input-42-8aaebfb1fd65>\", line 24, in autentica\n",
            "    usr = request.form['email']\n",
            "NameError: name 'request' is not defined\n",
            "127.0.0.1 - - [17/Apr/2022 23:17:50] \"\u001b[35m\u001b[1mPOST /autentica HTTP/1.1\u001b[0m\" 500 -\n",
            "[2022-04-17 23:17:53,713] ERROR in app: Exception on /autentica [POST]\n",
            "Traceback (most recent call last):\n",
            "  File \"/usr/local/lib/python3.7/dist-packages/flask/app.py\", line 2447, in wsgi_app\n",
            "    response = self.full_dispatch_request()\n",
            "  File \"/usr/local/lib/python3.7/dist-packages/flask/app.py\", line 1952, in full_dispatch_request\n",
            "    rv = self.handle_user_exception(e)\n",
            "  File \"/usr/local/lib/python3.7/dist-packages/flask/app.py\", line 1821, in handle_user_exception\n",
            "    reraise(exc_type, exc_value, tb)\n",
            "  File \"/usr/local/lib/python3.7/dist-packages/flask/_compat.py\", line 39, in reraise\n",
            "    raise value\n",
            "  File \"/usr/local/lib/python3.7/dist-packages/flask/app.py\", line 1950, in full_dispatch_request\n",
            "    rv = self.dispatch_request()\n",
            "  File \"/usr/local/lib/python3.7/dist-packages/flask/app.py\", line 1936, in dispatch_request\n",
            "    return self.view_functions[rule.endpoint](**req.view_args)\n",
            "  File \"<ipython-input-42-8aaebfb1fd65>\", line 24, in autentica\n",
            "    usr = request.form['email']\n",
            "NameError: name 'request' is not defined\n",
            "127.0.0.1 - - [17/Apr/2022 23:17:53] \"\u001b[35m\u001b[1mPOST /autentica HTTP/1.1\u001b[0m\" 500 -\n"
          ]
        }
      ],
      "source": [
        "from crypt import methods\n",
        "from math import degrees\n",
        "from flask import Flask, render_template\n",
        "from flask_ngrok import run_with_ngrok\n",
        "\n",
        "app = Flask(__name__, template_folder='/content/drive/MyDrive/templates')\n",
        "run_with_ngrok(app)  \n",
        "\n",
        "\n",
        "@app.route(\"/\")\n",
        "def home():\n",
        "    return render_template('index.html')\n",
        "\n",
        "@app.route(\"/cadastra\", methods=['POST'])\n",
        "def cadastra():\n",
        "    nome = request.form['nome']\n",
        "    email = request.form['email']\n",
        "    pswrd = request.form['senha']\n",
        "    #CREATE o usuário, passando os parâmetros lidos acima!\n",
        "    return render_template(\"Pagina inicial.html\", nome=nome,  email=email, usuario=usr, senha=pswrd)\n",
        "\n",
        "@app.route(\"/autentica\",methods=['POST'])\n",
        "def autentica():\n",
        "    email = request.form['email']\n",
        "    pswrd = request.form['senha']\n",
        "    #Consultar se usuário existe, passando usr e pswrd!\n",
        "    return render_template(\"Pagina Inicial.html\", email=email, senha=pswrd)\n",
        "\n",
        "@app.route(\"/cadastro\")\n",
        "def novo():\n",
        "    return render_template(\"Tela de Cadastro.html\")\n",
        "\n",
        "@app.route(\"/rec_senha\",methods=['POST'])\n",
        "def rec_senha():\n",
        "    usr = request.form['senha']\n",
        "    pswrd = request.form['senha']\n",
        "    return render_template(\"Esquece Senha.html\", usuario=usr, senha=pswrd)\n",
        "\n",
        "@app.route(\"/sala_virtual\")\n",
        "def sala_virtual():\n",
        "    return render_template(\"Sala Virtual.html\")\n",
        "\n",
        "@app.route(\"/conversao\")\n",
        "def convercao():\n",
        "    return render_template(\"Conversao.html\")\n",
        "  \n",
        "@app.route(\"/compra\")\n",
        "def compra():\n",
        "    return render_template(\"Comprar Moedas.html\")\n",
        "\n",
        "@app.route(\"/inicio\")\n",
        "def inicial():\n",
        "    return render_template(\"Pagina Inicial.html\")\n",
        "\n",
        "@app.route(\"/configuracao\")\n",
        "def configuracao():\n",
        "    return render_template(\"Configuracoes.html\")\n",
        "\n",
        "@app.route(\"/conversao_cifra\")\n",
        "def conversao_cifra():\n",
        "    return render_template(\"Converter cifra.html\")\n",
        "\n",
        "'''\n",
        "@app.route(\"/login\")\n",
        "def login():\n",
        "    return render_template(\"login.html\")\n",
        "\n",
        "@app.route(\"/autentica\",methods=['POST'])\n",
        "def autentica():\n",
        "    usr = request.form['usuario']\n",
        "    pswrd = request.form['senha']\n",
        "    #Consultar se usuário existe, passando usr e pswrd!\n",
        "    return render_template(\"usuario.html\", usuario=usr, senha=pswrd)\n",
        "\n",
        "@app.route(\"/signin\", methods=['GET'])\n",
        "def signin():\n",
        "    return render_template(\"formCliente.html\")\n",
        "\n",
        "@app.route(\"/cadastra\", methods=['POST'])\n",
        "def cadastra():\n",
        "    nome = request.form['nome']\n",
        "    email = request.form['email']\n",
        "    usr = request.form['usuario']\n",
        "    pswrd = request.form['senha']\n",
        "    #CREATE o usuário, passando os parâmetros lidos acima!\n",
        "    return render_template(\"usuario.html\", nome=nome,  email=email, usuario=usr, senha=pswrd)\n",
        "'''\n",
        "if __name__ == \"__main__\":\n",
        "    app.run()\n"
      ]
    }
  ],
  "metadata": {
    "colab": {
      "name": "App",
      "provenance": [],
      "include_colab_link": true
    },
    "kernelspec": {
      "display_name": "Python 3",
      "name": "python3"
    },
    "language_info": {
      "name": "python"
    }
  },
  "nbformat": 4,
  "nbformat_minor": 0
}