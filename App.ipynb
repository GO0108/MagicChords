{
  "cells": [
    {
      "cell_type": "markdown",
      "metadata": {
        "id": "view-in-github",
        "colab_type": "text"
      },
      "source": [
        "<a href=\"https://colab.research.google.com/github/GO0108/MagicChords/blob/main/App.ipynb\" target=\"_parent\"><img src=\"https://colab.research.google.com/assets/colab-badge.svg\" alt=\"Open In Colab\"/></a>"
      ]
    },
    {
      "cell_type": "markdown",
      "source": [
        "Professor, o link de acesso está no segundo link\n",
        "![image.png](data:image/png;base64,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)"
      ],
      "metadata": {
        "id": "tXWqGMlg1SJi"
      }
    },
    {
      "cell_type": "code",
      "execution_count": 70,
      "metadata": {
        "colab": {
          "base_uri": "https://localhost:8080/"
        },
        "id": "RroK4PHJ14Os",
        "outputId": "9aad7e87-0e3f-4b78-9d17-a5896e5fe369"
      },
      "outputs": [
        {
          "output_type": "stream",
          "name": "stdout",
          "text": [
            "/drive/ngrok-ssh\n",
            "--2022-04-18 20:11:55--  https://bin.equinox.io/c/4VmDzA7iaHb/ngrok-stable-linux-amd64.zip\n",
            "Resolving bin.equinox.io (bin.equinox.io)... 52.202.168.65, 18.205.222.128, 54.237.133.81, ...\n",
            "Connecting to bin.equinox.io (bin.equinox.io)|52.202.168.65|:443... connected.\n",
            "HTTP request sent, awaiting response... 200 OK\n",
            "Length: 13832437 (13M) [application/octet-stream]\n",
            "Saving to: ‘ngrok-stable-linux-amd64.zip’\n",
            "\n",
            "ngrok-stable-linux- 100%[===================>]  13.19M  39.1MB/s    in 0.3s    \n",
            "\n",
            "2022-04-18 20:11:56 (39.1 MB/s) - ‘ngrok-stable-linux-amd64.zip’ saved [13832437/13832437]\n",
            "\n",
            "Archive:  ngrok-stable-linux-amd64.zip\n",
            "Requirement already satisfied: flask-ngrok in /usr/local/lib/python3.7/dist-packages (0.0.25)\n",
            "Requirement already satisfied: requests in /usr/local/lib/python3.7/dist-packages (from flask-ngrok) (2.23.0)\n",
            "Requirement already satisfied: Flask>=0.8 in /usr/local/lib/python3.7/dist-packages (from flask-ngrok) (1.1.4)\n",
            "Requirement already satisfied: Jinja2<3.0,>=2.10.1 in /usr/local/lib/python3.7/dist-packages (from Flask>=0.8->flask-ngrok) (2.11.3)\n",
            "Requirement already satisfied: Werkzeug<2.0,>=0.15 in /usr/local/lib/python3.7/dist-packages (from Flask>=0.8->flask-ngrok) (1.0.1)\n",
            "Requirement already satisfied: click<8.0,>=5.1 in /usr/local/lib/python3.7/dist-packages (from Flask>=0.8->flask-ngrok) (7.1.2)\n",
            "Requirement already satisfied: itsdangerous<2.0,>=0.24 in /usr/local/lib/python3.7/dist-packages (from Flask>=0.8->flask-ngrok) (1.1.0)\n",
            "Requirement already satisfied: MarkupSafe>=0.23 in /usr/local/lib/python3.7/dist-packages (from Jinja2<3.0,>=2.10.1->Flask>=0.8->flask-ngrok) (2.0.1)\n",
            "Requirement already satisfied: chardet<4,>=3.0.2 in /usr/local/lib/python3.7/dist-packages (from requests->flask-ngrok) (3.0.4)\n",
            "Requirement already satisfied: certifi>=2017.4.17 in /usr/local/lib/python3.7/dist-packages (from requests->flask-ngrok) (2021.10.8)\n",
            "Requirement already satisfied: urllib3!=1.25.0,!=1.25.1,<1.26,>=1.21.1 in /usr/local/lib/python3.7/dist-packages (from requests->flask-ngrok) (1.24.3)\n",
            "Requirement already satisfied: idna<3,>=2.5 in /usr/local/lib/python3.7/dist-packages (from requests->flask-ngrok) (2.10)\n"
          ]
        }
      ],
      "source": [
        "#Baixando flash ngrok, usar flash no colab\n",
        "!mkdir -p /drive/ngrok-ssh\n",
        "%cd /drive/ngrok-ssh\n",
        "!wget https://bin.equinox.io/c/4VmDzA7iaHb/ngrok-stable-linux-amd64.zip -O ngrok-stable-linux-amd64.zip\n",
        "!unzip -u ngrok-stable-linux-amd64.zip\n",
        "!cp /drive/ngrok-ssh/ngrok /ngrok\n",
        "!chmod +x /ngrok\n",
        "\n",
        "!pip install flask-ngrok\n"
      ]
    },
    {
      "cell_type": "code",
      "source": [
        "# Token de autenticação para acesso a flash ngrok, caso ocorra um erro ao abrir \n",
        "#o link é provável que não houve autenticação do ngrok (crie uma conta e use um token para rodar)\n",
        "!/ngrok authtoken 27JjYKSINTlPVXJknyzB5m9AeFH_4SPhXnckexL5hoLSvxgBq"
      ],
      "metadata": {
        "colab": {
          "base_uri": "https://localhost:8080/"
        },
        "id": "DnxRAucza3Qq",
        "outputId": "f7dea5c1-f4fc-4727-d65d-3abd77e12e22"
      },
      "execution_count": 71,
      "outputs": [
        {
          "output_type": "stream",
          "name": "stdout",
          "text": [
            "Authtoken saved to configuration file: /root/.ngrok2/ngrok.yml\n"
          ]
        }
      ]
    },
    {
      "cell_type": "markdown",
      "source": [
        "https://drive.google.com/drive/folders/1iGn3qp6AGXD6Mhnzc_OUYUEe_HwFx4kQ?usp=sharing"
      ],
      "metadata": {
        "id": "M0Vm1y0F-Szu"
      }
    },
    {
      "cell_type": "code",
      "execution_count": 72,
      "metadata": {
        "colab": {
          "base_uri": "https://localhost:8080/"
        },
        "id": "LRExDSnj4N4w",
        "outputId": "ac0bf3ea-3a42-4dc2-a6a3-6a496a9a81f0"
      },
      "outputs": [
        {
          "output_type": "stream",
          "name": "stdout",
          "text": [
            "Drive already mounted at /content/drive; to attempt to forcibly remount, call drive.mount(\"/content/drive\", force_remount=True).\n",
            "'Altera Nome.html'\t'Comprar Moedas.html'\t index.html\n",
            "'Altera Senha.html'\t Configurações.html\t'Pagina Inicial.html'\n",
            " atualizado.html\t Conversao.html\t\t'Sala Virtual.html'\n",
            " atualizado_nome.html\t'Converter cifra.html'\t'Tela de Cadastro.html'\n",
            " atualizado_senha.html\t'Esqueceu Senha.html'\t usuario.html\n"
          ]
        }
      ],
      "source": [
        "# Acessar templates disponíveis no drive acima, certifique-se que esteja no mesmo caminho no seu drive\n",
        "from google.colab import drive\n",
        "drive.mount('/content/drive')\n",
        "\n",
        "!ls \"/content/drive/MyDrive/templates\""
      ]
    },
    {
      "cell_type": "code",
      "source": [
        "cd /content/drive/MyDrive/templates"
      ],
      "metadata": {
        "colab": {
          "base_uri": "https://localhost:8080/"
        },
        "id": "OFDDe4wV_LhB",
        "outputId": "fb32884b-2f29-491d-8ae5-4d6ea5b8a467"
      },
      "execution_count": 73,
      "outputs": [
        {
          "output_type": "stream",
          "name": "stdout",
          "text": [
            "/content/drive/MyDrive/templates\n"
          ]
        }
      ]
    },
    {
      "cell_type": "code",
      "execution_count": 77,
      "metadata": {
        "colab": {
          "base_uri": "https://localhost:8080/"
        },
        "id": "m9Qmf0Zv1-D6",
        "outputId": "f789ff7c-c085-4958-efce-cf9e259568f6"
      },
      "outputs": [
        {
          "output_type": "stream",
          "name": "stdout",
          "text": [
            " * Serving Flask app \"__main__\" (lazy loading)\n",
            " * Environment: production\n",
            "\u001b[31m   WARNING: This is a development server. Do not use it in a production deployment.\u001b[0m\n",
            "\u001b[2m   Use a production WSGI server instead.\u001b[0m\n",
            " * Debug mode: off\n"
          ]
        },
        {
          "output_type": "stream",
          "name": "stderr",
          "text": [
            " * Running on http://127.0.0.1:5000/ (Press CTRL+C to quit)\n",
            "Exception in thread Thread-504:\n",
            "Traceback (most recent call last):\n",
            "  File \"/usr/local/lib/python3.7/dist-packages/urllib3/connection.py\", line 159, in _new_conn\n",
            "    (self._dns_host, self.port), self.timeout, **extra_kw)\n",
            "  File \"/usr/local/lib/python3.7/dist-packages/urllib3/util/connection.py\", line 80, in create_connection\n",
            "    raise err\n",
            "  File \"/usr/local/lib/python3.7/dist-packages/urllib3/util/connection.py\", line 70, in create_connection\n",
            "    sock.connect(sa)\n",
            "ConnectionRefusedError: [Errno 111] Connection refused\n",
            "\n",
            "During handling of the above exception, another exception occurred:\n",
            "\n",
            "Traceback (most recent call last):\n",
            "  File \"/usr/local/lib/python3.7/dist-packages/urllib3/connectionpool.py\", line 600, in urlopen\n",
            "    chunked=chunked)\n",
            "  File \"/usr/local/lib/python3.7/dist-packages/urllib3/connectionpool.py\", line 354, in _make_request\n",
            "    conn.request(method, url, **httplib_request_kw)\n",
            "  File \"/usr/lib/python3.7/http/client.py\", line 1281, in request\n",
            "    self._send_request(method, url, body, headers, encode_chunked)\n",
            "  File \"/usr/lib/python3.7/http/client.py\", line 1327, in _send_request\n",
            "    self.endheaders(body, encode_chunked=encode_chunked)\n",
            "  File \"/usr/lib/python3.7/http/client.py\", line 1276, in endheaders\n",
            "    self._send_output(message_body, encode_chunked=encode_chunked)\n",
            "  File \"/usr/lib/python3.7/http/client.py\", line 1036, in _send_output\n",
            "    self.send(msg)\n",
            "  File \"/usr/lib/python3.7/http/client.py\", line 976, in send\n",
            "    self.connect()\n",
            "  File \"/usr/local/lib/python3.7/dist-packages/urllib3/connection.py\", line 181, in connect\n",
            "    conn = self._new_conn()\n",
            "  File \"/usr/local/lib/python3.7/dist-packages/urllib3/connection.py\", line 168, in _new_conn\n",
            "    self, \"Failed to establish a new connection: %s\" % e)\n",
            "urllib3.exceptions.NewConnectionError: <urllib3.connection.HTTPConnection object at 0x7f31c4bfe110>: Failed to establish a new connection: [Errno 111] Connection refused\n",
            "\n",
            "During handling of the above exception, another exception occurred:\n",
            "\n",
            "Traceback (most recent call last):\n",
            "  File \"/usr/local/lib/python3.7/dist-packages/requests/adapters.py\", line 449, in send\n",
            "    timeout=timeout\n",
            "  File \"/usr/local/lib/python3.7/dist-packages/urllib3/connectionpool.py\", line 638, in urlopen\n",
            "    _stacktrace=sys.exc_info()[2])\n",
            "  File \"/usr/local/lib/python3.7/dist-packages/urllib3/util/retry.py\", line 399, in increment\n",
            "    raise MaxRetryError(_pool, url, error or ResponseError(cause))\n",
            "urllib3.exceptions.MaxRetryError: HTTPConnectionPool(host='localhost', port=4040): Max retries exceeded with url: /api/tunnels (Caused by NewConnectionError('<urllib3.connection.HTTPConnection object at 0x7f31c4bfe110>: Failed to establish a new connection: [Errno 111] Connection refused'))\n",
            "\n",
            "During handling of the above exception, another exception occurred:\n",
            "\n",
            "Traceback (most recent call last):\n",
            "  File \"/usr/lib/python3.7/threading.py\", line 926, in _bootstrap_inner\n",
            "    self.run()\n",
            "  File \"/usr/lib/python3.7/threading.py\", line 1177, in run\n",
            "    self.function(*self.args, **self.kwargs)\n",
            "  File \"/usr/local/lib/python3.7/dist-packages/flask_ngrok.py\", line 70, in start_ngrok\n",
            "    ngrok_address = _run_ngrok()\n",
            "  File \"/usr/local/lib/python3.7/dist-packages/flask_ngrok.py\", line 35, in _run_ngrok\n",
            "    tunnel_url = requests.get(localhost_url).text  # Get the tunnel information\n",
            "  File \"/usr/local/lib/python3.7/dist-packages/requests/api.py\", line 76, in get\n",
            "    return request('get', url, params=params, **kwargs)\n",
            "  File \"/usr/local/lib/python3.7/dist-packages/requests/api.py\", line 61, in request\n",
            "    return session.request(method=method, url=url, **kwargs)\n",
            "  File \"/usr/local/lib/python3.7/dist-packages/requests/sessions.py\", line 530, in request\n",
            "    resp = self.send(prep, **send_kwargs)\n",
            "  File \"/usr/local/lib/python3.7/dist-packages/requests/sessions.py\", line 643, in send\n",
            "    r = adapter.send(request, **kwargs)\n",
            "  File \"/usr/local/lib/python3.7/dist-packages/requests/adapters.py\", line 516, in send\n",
            "    raise ConnectionError(e, request=request)\n",
            "requests.exceptions.ConnectionError: HTTPConnectionPool(host='localhost', port=4040): Max retries exceeded with url: /api/tunnels (Caused by NewConnectionError('<urllib3.connection.HTTPConnection object at 0x7f31c4bfe110>: Failed to establish a new connection: [Errno 111] Connection refused'))\n",
            "\n"
          ]
        }
      ],
      "source": [
        "from crypt import methods\n",
        "from math import degrees\n",
        "from flask import Flask, render_template, request\n",
        "from flask_ngrok import run_with_ngrok\n",
        "\n",
        "app = Flask(__name__, template_folder='/content/drive/MyDrive/templates')\n",
        "run_with_ngrok(app)  \n",
        "\n",
        "\n",
        "@app.route(\"/\")\n",
        "@app.route(\"/index\")\n",
        "def home():\n",
        "    return render_template('index.html')\n",
        "\n",
        "@app.route(\"/cadastra\", methods=['POST'])\n",
        "def cadastra():\n",
        "    nome = request.form['nome']\n",
        "    data = request.form['data']\n",
        "    email = request.form['email']\n",
        "    pswrd = request.form['senha']\n",
        "    confirm = request.form['senha2']\n",
        "    #CREATE o usuário, passando os parâmetros lidos acima!\n",
        "    return render_template(\"usuario.html\", nome=nome, data=data,  email=email, senha=pswrd, confirm=confirm)\n",
        "\n",
        "@app.route(\"/autentica\",methods=['POST'])\n",
        "def autentica():\n",
        "    email = request.form['email']\n",
        "    pswrd = request.form['senha']\n",
        "    #Consultar se usuário existe, passando usr e pswrd!\n",
        "    return render_template(\"Pagina Inicial.html\", email=email, senha=pswrd)\n",
        "\n",
        "@app.route(\"/altera_senha\", methods=['POST'])\n",
        "def altera_senha():\n",
        "    pswrd_a = request.form['senha']\n",
        "    pswrd_n = request.form['nova_senha']\n",
        "    confirm = request.form['nova_senha2']\n",
        "    #confirmar se a senha está correta e se as senhas novas batem\n",
        "    return render_template(\"atualizado_senha.html\", senha=pswrd_a, nova_senha=pswrd_n, confirm=confirm)\n",
        "\n",
        "@app.route(\"/altera_nome\", methods=['POST'])\n",
        "def altera_nome():\n",
        "    novo_n = request.form['novo_nome']\n",
        "    return render_template(\"atualizado_nome.html\", nome = novo_n)\n",
        "\n",
        "@app.route(\"/nova\", methods=['POST'])\n",
        "def nova():\n",
        "    email = request.form['email']\n",
        "    pswrd_n = request.form['nova_senha']\n",
        "    confirm = request.form['nova_senha2']\n",
        "    #confirmar se as senhas novas batem\n",
        "    return render_template(\"atualizado.html\",email=email, senha=pswrd_n, confirm =confirm )\n",
        "    \n",
        "\n",
        "@app.route(\"/rec_senha\")\n",
        "def rec_senha():\n",
        "    return render_template(\"Esqueceu Senha.html\")\n",
        "\n",
        "@app.route(\"/cadastro\")\n",
        "def cadastro():\n",
        "    return render_template(\"Tela de Cadastro.html\")\n",
        "\n",
        "@app.route(\"/sala_virtual\")\n",
        "def sala_virtual():\n",
        "    return render_template(\"Sala Virtual.html\")\n",
        "\n",
        "@app.route(\"/conversao\")\n",
        "def convercao():\n",
        "    return render_template(\"Conversao.html\")\n",
        "  \n",
        "@app.route(\"/compra\")\n",
        "def compra():\n",
        "    return render_template(\"Comprar Moedas.html\")\n",
        "\n",
        "@app.route(\"/altera_n\")\n",
        "def altera_n():\n",
        "    return render_template(\"Altera Nome.html\")\n",
        "\n",
        "@app.route(\"/altera_s\")\n",
        "def altera_s():\n",
        "    return render_template(\"Altera Senha.html\")\n",
        "\n",
        "@app.route(\"/inicio\")\n",
        "def inicial():\n",
        "    return render_template(\"Pagina Inicial.html\")\n",
        "\n",
        "@app.route(\"/configuracao\")\n",
        "def configuracao():\n",
        "    return render_template(\"Configurações.html\")\n",
        "\n",
        "@app.route(\"/conversao_cifra\")\n",
        "def conversao_cifra():\n",
        "    return render_template(\"Converter cifra.html\")\n",
        "\n",
        "if __name__ == \"__main__\":\n",
        "    app.run()"
      ]
    }
  ],
  "metadata": {
    "colab": {
      "name": "App",
      "provenance": [],
      "include_colab_link": true
    },
    "kernelspec": {
      "display_name": "Python 3",
      "name": "python3"
    },
    "language_info": {
      "name": "python"
    }
  },
  "nbformat": 4,
  "nbformat_minor": 0
}
